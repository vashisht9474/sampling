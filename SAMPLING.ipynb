{
  "nbformat": 4,
  "nbformat_minor": 0,
  "metadata": {
    "colab": {
      "provenance": [],
      "authorship_tag": "ABX9TyOI+EAh+/Nwk4o/5nOUPjUN",
      "include_colab_link": true
    },
    "kernelspec": {
      "name": "python3",
      "display_name": "Python 3"
    },
    "language_info": {
      "name": "python"
    }
  },
  "cells": [
    {
      "cell_type": "markdown",
      "metadata": {
        "id": "view-in-github",
        "colab_type": "text"
      },
      "source": [
        "<a href=\"https://colab.research.google.com/github/vashisht9474/sampling/blob/main/SAMPLING.ipynb\" target=\"_parent\"><img src=\"https://colab.research.google.com/assets/colab-badge.svg\" alt=\"Open In Colab\"/></a>"
      ]
    },
    {
      "cell_type": "code",
      "source": [
        "try:\n",
        "  import pandas as pd\n",
        "\n",
        "except:\n",
        "  !pip install pandas"
      ],
      "metadata": {
        "id": "oX2CgdGsj16U"
      },
      "execution_count": 1,
      "outputs": []
    },
    {
      "cell_type": "code",
      "source": [
        "import sklearn"
      ],
      "metadata": {
        "id": "sv2DQmwIkGOY"
      },
      "execution_count": 2,
      "outputs": []
    },
    {
      "cell_type": "code",
      "source": [
        "df=pd.read_csv('/content/Creditcard_data.csv')"
      ],
      "metadata": {
        "id": "7B_aknkrkIz5"
      },
      "execution_count": 4,
      "outputs": []
    },
    {
      "cell_type": "code",
      "source": [
        "import matplotlib.pyplot as plt"
      ],
      "metadata": {
        "id": "WDJ3LsUcmVOE"
      },
      "execution_count": 5,
      "outputs": []
    },
    {
      "cell_type": "code",
      "source": [
        "import matplotlib.pyplot as plt\n",
        "\n",
        "# Count the number of instances for each class\n",
        "class_counts = df['Class'].value_counts()\n",
        "\n",
        "# Create a bar chart\n",
        "plt.bar(class_counts.index, class_counts.values)\n",
        "plt.xlabel('Class')\n",
        "plt.ylabel('Number of instances')\n",
        "plt.title('Distribution of classes')\n",
        "plt.show()"
      ],
      "metadata": {
        "colab": {
          "base_uri": "https://localhost:8080/",
          "height": 295
        },
        "id": "2C13R-vHmatR",
        "outputId": "9dc5931c-77d0-4a3e-d766-800cfb3229ed"
      },
      "execution_count": 6,
      "outputs": [
        {
          "output_type": "display_data",
          "data": {
            "text/plain": [
              "<Figure size 432x288 with 1 Axes>"
            ],
            "image/png": "[encoded data removed]"
          },
          "metadata": {
            "needs_background": "light"
          }
        }
      ]
    },
    {
      "cell_type": "code",
      "execution_count": 7,
      "metadata": {
        "colab": {
          "base_uri": "https://localhost:8080/"
        },
        "id": "ReJ52j1DjNkO",
        "outputId": "a947fd79-ac75-4cb4-bc4e-0ebfbd7771d0"
      },
      "outputs": [
        {
          "output_type": "execute_result",
          "data": {
            "text/plain": [
              "<bound method DataFrame.info of      Time        V1        V2        V3        V4        V5        V6  \\\n",
              "0       0 -1.359807 -0.072781  2.536347  1.378155 -0.338321  0.462388   \n",
              "1       0  1.191857  0.266151  0.166480  0.448154  0.060018 -0.082361   \n",
              "2       1 -1.358354 -1.340163  1.773209  0.379780 -0.503198  1.800499   \n",
              "3       1 -0.966272 -0.185226  1.792993 -0.863291 -0.010309  1.247203   \n",
              "4       2 -1.158233  0.877737  1.548718  0.403034 -0.407193  0.095921   \n",
              "..    ...       ...       ...       ...       ...       ...       ...   \n",
              "767   575 -0.572263  0.731748  1.541254  0.150506  1.108974  0.372152   \n",
              "768   579 -1.296845 -0.511605  2.404726 -0.310762 -0.319551 -0.542842   \n",
              "769   579  1.214170  0.210481  0.484651  0.479768 -0.261955 -0.527039   \n",
              "770   580  1.267030 -0.071114  0.037680  0.512683  0.242392  0.705212   \n",
              "771   581  1.153758  0.132273  0.382969  1.405063 -0.224287 -0.197295   \n",
              "\n",
              "           V7        V8        V9  ...       V21       V22       V23  \\\n",
              "0    0.239599  0.098698  0.363787  ... -0.018307  0.277838 -0.110474   \n",
              "1   -0.078803  0.085102 -0.255425  ... -0.225775 -0.638672  0.101288   \n",
              "2    0.791461  0.247676 -1.514654  ...  0.247998  0.771679  0.909412   \n",
              "3    0.237609  0.377436 -1.387024  ... -0.108300  0.005274 -0.190321   \n",
              "4    0.592941 -0.270533  0.817739  ... -0.009431  0.798278 -0.137458   \n",
              "..        ...       ...       ...  ...       ...       ...       ...   \n",
              "767  1.084879 -0.146329 -0.274447  ... -0.143508 -0.107582 -0.418263   \n",
              "768 -0.173310  0.260423 -1.202688  ... -0.071270 -0.161175  0.088496   \n",
              "769  0.021782 -0.106888 -0.037631  ... -0.224292 -0.594609  0.159877   \n",
              "770 -0.226582  0.109483  0.657565  ... -0.164468 -0.177225 -0.222918   \n",
              "771  0.020653  0.029260  0.412254  ... -0.107809 -0.125231 -0.057041   \n",
              "\n",
              "          V24       V25       V26       V27       V28  Amount  Class  \n",
              "0    0.066928  0.128539 -0.189115  0.133558 -0.021053  149.62      0  \n",
              "1   -0.339846  0.167170  0.125895 -0.008983  0.014724    2.69      1  \n",
              "2   -0.689281 -0.327642 -0.139097 -0.055353 -0.059752  378.66      0  \n",
              "3   -1.175575  0.647376 -0.221929  0.062723  0.061458  123.50      0  \n",
              "4    0.141267 -0.206010  0.502292  0.219422  0.215153   69.99      0  \n",
              "..        ...       ...       ...       ...       ...     ...    ...  \n",
              "767 -0.731029  0.877525 -0.364150 -0.177509 -0.256545   26.72      0  \n",
              "768  0.285390  0.281069 -0.370130  0.043410  0.092318   80.00      0  \n",
              "769  0.091873  0.140964  0.227406 -0.017389  0.016030    5.98      0  \n",
              "770 -1.245505  0.678360  0.525059  0.002920 -0.003333   12.36      0  \n",
              "771  0.073082  0.633977 -0.310685  0.033590  0.015250   13.79      0  \n",
              "\n",
              "[772 rows x 31 columns]>"
            ]
          },
          "metadata": {},
          "execution_count": 7
        }
      ],
      "source": [
        "df.info"
      ]
    },
    {
      "cell_type": "code",
      "source": [
        "df.shape"
      ],
      "metadata": {
        "colab": {
          "base_uri": "https://localhost:8080/"
        },
        "id": "QS0YEAt7mDmn",
        "outputId": "94c9ce7e-7893-4f4b-e365-8efd14629f20"
      },
      "execution_count": 8,
      "outputs": [
        {
          "output_type": "execute_result",
          "data": {
            "text/plain": [
              "(772, 31)"
            ]
          },
          "metadata": {},
          "execution_count": 8
        }
      ]
    },
    {
      "cell_type": "code",
      "source": [
        "#in this cell i am balancing the dataset into equal classes\n",
        "from imblearn.over_sampling import RandomOverSampler\n",
        "\n",
        "X = df.iloc[:,:-1]\n",
        "y = df.iloc[:,-1]\n",
        "\n",
        "print(\"before  oversampling:\", X.shape)\n",
        "ros = RandomOverSampler(sampling_strategy='minority')\n",
        "# Convert to numpy and oversample\n",
        "x_np = X.to_numpy()\n",
        "y_np = y.to_numpy()\n",
        "x_np, y_np = ros.fit_resample(x_np, y_np)\n",
        "# Convert back to pandas\n",
        "X = pd.DataFrame(x_np, columns=X.columns)\n",
        "y = pd.Series(y_np, name=y.name)\n",
        "print(\"After oversampling:\", X.shape)\n",
        "\n",
        "new_df = pd.concat([pd.DataFrame(X), pd.DataFrame(y)], axis=1)\n",
        "new_df.columns = df.columns \n",
        "print(new_df.shape)\n",
        "#now checking the distribution of classes after we performed oversampling\n",
        "import matplotlib.pyplot as plt\n",
        "\n",
        "# Count the number of instances for each class\n",
        "class_counts = new_df['Class'].value_counts()\n",
        "\n",
        "# Create a bar chart\n",
        "plt.bar(class_counts.index, class_counts.values)\n",
        "plt.xlabel('Class')\n",
        "plt.ylabel('Number of instances')\n",
        "plt.title('Distribution of classes')\n",
        "plt.show()\n",
        "\n"
      ],
      "metadata": {
        "colab": {
          "base_uri": "https://localhost:8080/",
          "height": 350
        },
        "id": "zpiBcAx4sLHH",
        "outputId": "62fe87ee-9c4d-438c-8e60-ffd4fbe2cad6"
      },
      "execution_count": 9,
      "outputs": [
        {
          "output_type": "stream",
          "name": "stdout",
          "text": [
            "before  oversampling: (772, 30)\n",
            "After oversampling: (1526, 30)\n",
            "(1526, 31)\n"
          ]
        },
        {
          "output_type": "display_data",
          "data": {
            "text/plain": [
              "<Figure size 432x288 with 1 Axes>"
            ],
            "image/png": "[encoded data removed]"
          },
          "metadata": {
            "needs_background": "light"
          }
        }
      ]
    },
    {
      "cell_type": "code",
      "source": [
        "#now my new dataset is new_df which is a balanced dataset\n",
        "from sklearn.metrics import accuracy_score\n",
        "sample_size = 100\n",
        "\n",
        "# applying simple random sampling with the desired sample size\n",
        "sampled_df = new_df.sample(n=sample_size)\n",
        "\n",
        "# print the sampled dataframe\n",
        "print(sampled_df)\n",
        "\n",
        "#now training on the sample\n",
        "X = sampled_df.drop('Class', axis=1)\n",
        "y = sampled_df['Class']\n",
        "\n",
        "from sklearn.model_selection import train_test_split\n",
        "\n",
        "X_train, X_test, y_train, y_test = train_test_split(X, y, test_size=0.2, random_state=42)\n",
        "from sklearn.ensemble import RandomForestClassifier\n",
        "\n",
        "rf = RandomForestClassifier(random_state=42)\n",
        "rf.fit(X_train, y_train)\n",
        "y_pred= rf.predict(X_test)\n",
        "\n",
        "\n",
        "\n",
        "\n",
        "# compute the accuracy score\n",
        "accuracy_rf_s1 = accuracy_score(y_test, y_pred)\n",
        "\n",
        "# print the accuracy score\n",
        "print(f'Testing accuracy: {accuracy_rf_s1:.3f}')\n",
        "l=list()\n",
        "l.append(accuracy_rf_s1)\n",
        "print(l)"
      ],
      "metadata": {
        "colab": {
          "base_uri": "https://localhost:8080/"
        },
        "id": "umREFf3HEDOi",
        "outputId": "7248474a-af72-4898-d54a-7b067734082e"
      },
      "execution_count": 11,
      "outputs": [
        {
          "output_type": "stream",
          "name": "stdout",
          "text": [
            "       Time        V1        V2        V3        V4        V5        V6  \\\n",
            "696   525.0 -0.755011 -0.517761  1.760091 -0.654206 -0.039143 -0.492847   \n",
            "994   539.0 -1.738582  0.052740  1.187057 -0.656652  0.920623 -0.291788   \n",
            "835   484.0 -0.928088  0.398194  1.741131  0.182673  0.966387 -0.901004   \n",
            "199   132.0 -0.394816  1.054418  1.206361 -0.289232  0.610284  0.081529   \n",
            "475   352.0 -0.703183  1.210704  0.713731  1.146381  0.196790  0.468060   \n",
            "...     ...       ...       ...       ...       ...       ...       ...   \n",
            "691   523.0  1.119589  1.131586 -1.533011  1.545223  0.929388 -1.158350   \n",
            "1449  118.0  1.254914  0.350287  0.302488  0.693114 -0.371470 -1.070256   \n",
            "876   529.0 -2.000567 -2.495484  2.467149  1.140053  2.462010  0.594262   \n",
            "1017  118.0  1.254914  0.350287  0.302488  0.693114 -0.371470 -1.070256   \n",
            "553   413.0  1.146594 -0.353208  0.834120  0.708139 -0.749014  0.189676   \n",
            "\n",
            "            V7        V8        V9  ...       V21       V22       V23  \\\n",
            "696  -0.047345  0.118936  0.734444  ... -0.049608 -0.200904  0.268931   \n",
            "994   0.269083  0.140631  0.023464  ... -0.179545 -0.192036 -0.261879   \n",
            "835   0.879016 -0.156590 -0.142117  ...  0.066353  0.281378 -0.257966   \n",
            "199   0.687721  0.065341 -0.501623  ... -0.243154 -0.548388 -0.107138   \n",
            "475   0.204977  0.627389 -0.296261  ... -0.052939  0.044339 -0.184853   \n",
            "...        ...       ...       ...  ...       ...       ...       ...   \n",
            "691   0.589694 -0.093412 -0.660778  ... -0.114063 -0.283534 -0.173513   \n",
            "1449  0.086781 -0.202836  0.035154  ... -0.287592 -0.832682  0.128083   \n",
            "876  -2.110183  0.788347  0.958809  ...  0.422452  1.195394  0.297836   \n",
            "1017  0.086781 -0.202836  0.035154  ... -0.287592 -0.832682  0.128083   \n",
            "553  -0.593212  0.126902  1.015718  ... -0.120062 -0.268422 -0.112320   \n",
            "\n",
            "           V24       V25       V26       V27       V28  Amount  Class  \n",
            "696   0.108087 -0.468660  0.729549 -0.017462  0.077163   79.54      0  \n",
            "994  -0.237477 -0.335040  0.240323 -0.345129 -0.383563    1.00      1  \n",
            "835   0.385384  0.391117 -0.453853 -0.104448 -0.125765    1.00      1  \n",
            "199  -0.757097 -0.119197  0.149368  0.287360  0.111322    3.87      0  \n",
            "475  -0.776439  0.021548 -0.166427  0.297892  0.128381   13.99      0  \n",
            "...        ...       ...       ...       ...       ...     ...    ...  \n",
            "691  -0.111816  0.707684 -0.294681  0.047406  0.086989   15.19      0  \n",
            "1449  0.339427  0.215944  0.094704 -0.023354  0.030892    2.69      1  \n",
            "876  -0.857105 -0.219322  0.861019 -0.124622 -0.171060    1.50      1  \n",
            "1017  0.339427  0.215944  0.094704 -0.023354  0.030892    2.69      1  \n",
            "553  -0.410470  0.341273  0.364006  0.005175  0.026810   57.50      0  \n",
            "\n",
            "[100 rows x 31 columns]\n",
            "Testing accuracy: 1.000\n",
            "[1.0]\n"
          ]
        }
      ]
    },
    {
      "cell_type": "code",
      "source": [
        "#sample1--svm\n",
        "from sklearn.svm import SVC\n",
        "print(X.shape)\n",
        "svm = SVC(kernel='linear', C=1,)\n",
        "svm.fit(X_train, y_train)\n",
        "y_pred=svm.predict(X_test)\n",
        "accuracy_svm_s1 = accuracy_score(y_test, y_pred)\n",
        "\n",
        "# print the accuracy score\n",
        "print(accuracy_svm_s1)\n",
        "l.append(accuracy_svm_s1)"
      ],
      "metadata": {
        "colab": {
          "base_uri": "https://localhost:8080/"
        },
        "id": "mUfTsgKVHXwi",
        "outputId": "31861ae2-27f0-4628-9747-4f338eecc932"
      },
      "execution_count": 12,
      "outputs": [
        {
          "output_type": "stream",
          "name": "stdout",
          "text": [
            "(100, 30)\n",
            "0.9\n"
          ]
        }
      ]
    },
    {
      "cell_type": "code",
      "source": [
        "#sample1--etc\n",
        "from sklearn.ensemble import ExtraTreesClassifier\n",
        "\n",
        "etc = ExtraTreesClassifier(n_estimators=100, max_depth=5, random_state=42)\n",
        "etc.fit(X_train, y_train)\n",
        "y_pred=etc.predict(X_test)\n",
        "accuracy_etc_s1 = accuracy_score(y_test, y_pred)\n",
        "\n",
        "# print the accuracy score\n",
        "print(accuracy_etc_s1)\n",
        "l.append(accuracy_etc_s1)\n"
      ],
      "metadata": {
        "colab": {
          "base_uri": "https://localhost:8080/"
        },
        "id": "Bx5SBfWLAhEi",
        "outputId": "d6660e50-373a-49a7-a527-d452d5a63bb6"
      },
      "execution_count": 13,
      "outputs": [
        {
          "output_type": "stream",
          "name": "stdout",
          "text": [
            "1.0\n"
          ]
        }
      ]
    },
    {
      "cell_type": "code",
      "source": [
        "#sample1--dt\n",
        "from sklearn.tree import DecisionTreeClassifier\n",
        "\n",
        "dtc = DecisionTreeClassifier(max_depth=5, random_state=42)\n",
        "dtc.fit(X_train, y_train)\n",
        "y_pred=dtc.predict(X_test)\n",
        "accuracy_dt_s1=accuracy_score(y_test,y_pred)\n",
        "print(accuracy_dt_s1)\n",
        "\n",
        "l.append(accuracy_dt_s1)\n"
      ],
      "metadata": {
        "colab": {
          "base_uri": "https://localhost:8080/"
        },
        "id": "h9Ywu9QRLh7C",
        "outputId": "6b2ddf25-2739-4740-b69b-1da8cdd6ceb0"
      },
      "execution_count": 14,
      "outputs": [
        {
          "output_type": "stream",
          "name": "stdout",
          "text": [
            "0.95\n"
          ]
        }
      ]
    },
    {
      "cell_type": "code",
      "source": [
        "\n",
        "print(l)\n",
        "\n",
        "\n"
      ],
      "metadata": {
        "colab": {
          "base_uri": "https://localhost:8080/"
        },
        "id": "qqEm_OwATmdf",
        "outputId": "d35826d7-b855-49d1-eaa4-50b21ceb5c4d"
      },
      "execution_count": 172,
      "outputs": [
        {
          "output_type": "stream",
          "name": "stdout",
          "text": [
            "[]\n"
          ]
        }
      ]
    },
    {
      "cell_type": "code",
      "source": [
        "#sample1--nb\n",
        "from sklearn.naive_bayes import GaussianNB\n",
        "\n",
        "nb = GaussianNB()\n",
        "nb.fit(X_train, y_train)\n",
        "y_pred=dtc.predict(X_test)\n",
        "accuracy_nb_s1=accuracy_score(y_test,y_pred)\n",
        "print(f'Testing accuracy: {accuracy_nb_s1:.4f}')\n",
        "l.append(accuracy_nb_s1)"
      ],
      "metadata": {
        "colab": {
          "base_uri": "https://localhost:8080/"
        },
        "id": "cxNmHhhcNY69",
        "outputId": "ba7b5eec-7bc8-4d12-f31f-d2c0cd2ee204"
      },
      "execution_count": 15,
      "outputs": [
        {
          "output_type": "stream",
          "name": "stdout",
          "text": [
            "Testing accuracy: 0.9500\n"
          ]
        }
      ]
    },
    {
      "cell_type": "code",
      "source": [
        "print(l)"
      ],
      "metadata": {
        "colab": {
          "base_uri": "https://localhost:8080/"
        },
        "id": "2R4cjiQIUg3Y",
        "outputId": "63ba8afa-18ba-42b2-cfdf-9c571cea83bc"
      },
      "execution_count": 16,
      "outputs": [
        {
          "output_type": "stream",
          "name": "stdout",
          "text": [
            "[1.0, 0.9, 1.0, 0.95, 0.95]\n"
          ]
        }
      ]
    },
    {
      "cell_type": "code",
      "source": [
        "#SYSTEMATIC SAMPLING\n",
        "n = 100\n",
        "\n",
        "# Calculate the sampling interval\n",
        "k = len(df) // n\n",
        "\n",
        "# Select the systematic sample\n",
        "systematic_sample = new_df.iloc[::k][:n]\n",
        "\n",
        "# Print the systematic sample\n",
        "print(systematic_sample)\n",
        "sys_X=systematic_sample.drop('Class',axis=1)\n",
        "sys_y=systematic_sample['Class']\n",
        "\n",
        "from sklearn.model_selection import train_test_split\n",
        "\n",
        "X1_train, X1_test, y1_train, y1_test = train_test_split(sys_X, sys_y, test_size=0.2, random_state=42)\n",
        "from sklearn.ensemble import RandomForestClassifier\n",
        "\n",
        "rf = RandomForestClassifier(random_state=42)\n",
        "rf.fit(X1_train, y1_train)\n",
        "y1_pred= rf.predict(X1_test)\n",
        "accuracy_rf_s2=accuracy_score(y1_test,y1_pred)\n",
        "print(accuracy_rf_s2)\n",
        "l2=list()\n",
        "l2.append(accuracy_rf_s2)\n",
        "print(l2)\n"
      ],
      "metadata": {
        "colab": {
          "base_uri": "https://localhost:8080/"
        },
        "id": "i_F3ghXeX81V",
        "outputId": "2d87adde-3ec7-4a33-a10a-6e5d57a2cfd7"
      },
      "execution_count": 17,
      "outputs": [
        {
          "output_type": "stream",
          "name": "stdout",
          "text": [
            "      Time        V1        V2        V3        V4        V5        V6  \\\n",
            "0      0.0 -1.359807 -0.072781  2.536347  1.378155 -0.338321  0.462388   \n",
            "7      7.0 -0.644269  1.417964  1.074380 -0.492199  0.948934  0.428118   \n",
            "14    12.0 -2.791855 -0.327771  1.641750  1.767473 -0.136588  0.807596   \n",
            "21    17.0  0.962496  0.328461 -0.171479  2.109204  1.129566  1.696038   \n",
            "28    23.0 -0.414289  0.905437  1.727453  1.473471  0.007443 -0.200331   \n",
            "..     ...       ...       ...       ...       ...       ...       ...   \n",
            "665  503.0  0.860545 -0.747804 -0.955151 -1.124056  0.186536 -0.385942   \n",
            "672  509.0 -0.404841  1.005372  1.372756  0.005994 -0.118849 -0.788473   \n",
            "679  513.0  1.255258  0.075190  0.225733  0.881766  0.154508  0.631960   \n",
            "686  518.0 -0.743471  0.943604  1.486464 -0.179575 -0.190966 -0.295559   \n",
            "693  524.0 -0.795322  0.081238  2.210568  0.268145 -0.506875 -0.303840   \n",
            "\n",
            "           V7        V8        V9  ...       V21       V22       V23  \\\n",
            "0    0.239599  0.098698  0.363787  ... -0.018307  0.277838 -0.110474   \n",
            "7    1.120631 -3.807864  0.615375  ...  1.943465 -1.015455  0.057504   \n",
            "14  -0.422911 -1.907107  0.755713  ...  1.151663  0.222182  1.020586   \n",
            "21   0.107712  0.521502 -1.191311  ...  0.143997  0.402492 -0.048508   \n",
            "28   0.740228 -0.029247 -0.593392  ...  0.077237  0.457331 -0.038500   \n",
            "..        ...       ...       ...  ...       ...       ...       ...   \n",
            "665  0.703443 -0.282689  0.482600  ... -0.236279 -1.185203 -0.329844   \n",
            "672  0.566918  0.114721 -0.521987  ... -0.207334 -0.619987  0.020848   \n",
            "679 -0.385968  0.189493  0.447980  ...  0.088457  0.321206 -0.235167   \n",
            "686  0.352438  0.354958 -0.110108  ... -0.195239 -0.553503  0.055946   \n",
            "693 -0.180829  0.085540  0.248346  ...  0.210198  0.869922 -0.118656   \n",
            "\n",
            "          V24       V25       V26       V27       V28  Amount  Class  \n",
            "0    0.066928  0.128539 -0.189115  0.133558 -0.021053  149.62      0  \n",
            "7   -0.649709 -0.415267 -0.051634 -1.206921 -1.085339   40.80      0  \n",
            "14   0.028317 -0.232746 -0.235557 -0.164778 -0.030154   58.80      0  \n",
            "21  -1.371866  0.390814  0.199964  0.016371 -0.014605   34.09      0  \n",
            "28   0.642522 -0.183891 -0.277464  0.182687  0.152665   33.00      0  \n",
            "..        ...       ...       ...       ...       ...     ...    ...  \n",
            "665 -1.027355  0.613308 -0.979857 -0.018398  0.046621  268.93      0  \n",
            "672  0.456775 -0.249289  0.044937  0.234036  0.088356    8.28      0  \n",
            "679 -1.325033  0.643129 -0.133690  0.053069  0.012484    7.00      0  \n",
            "686  0.134419 -0.356895  0.083846  0.372062  0.162031    4.45      0  \n",
            "693  0.744594 -0.504294  1.259841  0.014692  0.128346   37.89      0  \n",
            "\n",
            "[100 rows x 31 columns]\n",
            "1.0\n",
            "[1.0]\n"
          ]
        }
      ]
    },
    {
      "cell_type": "code",
      "source": [
        "from sklearn.svm import SVC\n",
        "print(X.shape)\n",
        "svm = SVC(kernel='linear', C=1,)\n",
        "svm.fit(X1_train, y1_train)\n",
        "y1_pred=svm.predict(X1_test)\n",
        "accuracy_svm_s2 = accuracy_score(y1_test, y1_pred)\n",
        "\n",
        "# print the accuracy score\n",
        "print(accuracy_svm_s2)\n",
        "l2.append(accuracy_svm_s2)\n"
      ],
      "metadata": {
        "colab": {
          "base_uri": "https://localhost:8080/"
        },
        "id": "I0gFL6-5claC",
        "outputId": "92462d13-efca-4646-cecf-0f9cbd82eafd"
      },
      "execution_count": 18,
      "outputs": [
        {
          "output_type": "stream",
          "name": "stdout",
          "text": [
            "(100, 30)\n",
            "0.95\n"
          ]
        }
      ]
    },
    {
      "cell_type": "code",
      "source": [
        "#sample2--etc\n",
        "from sklearn.ensemble import ExtraTreesClassifier\n",
        "\n",
        "etc = ExtraTreesClassifier(n_estimators=100, max_depth=5, random_state=42)\n",
        "etc.fit(X1_train, y1_train)\n",
        "y_pred=etc.predict(X1_test)\n",
        "accuracy_etc_s2 = accuracy_score(y1_test, y_pred)\n",
        "\n",
        "# print the accuracy score\n",
        "print(accuracy_etc_s2)\n",
        "l2.append(accuracy_etc_s2)"
      ],
      "metadata": {
        "colab": {
          "base_uri": "https://localhost:8080/"
        },
        "id": "n1R0jXzXdC7L",
        "outputId": "cad9b46f-f2d0-4d6a-c7db-f2d47464f56b"
      },
      "execution_count": 19,
      "outputs": [
        {
          "output_type": "stream",
          "name": "stdout",
          "text": [
            "1.0\n"
          ]
        }
      ]
    },
    {
      "cell_type": "code",
      "source": [
        "#sample1--dt\n",
        "from sklearn.tree import DecisionTreeClassifier\n",
        "\n",
        "dtc = DecisionTreeClassifier(max_depth=5, random_state=42)\n",
        "dtc.fit(X1_train, y1_train)\n",
        "y_pred=dtc.predict(X1_test)\n",
        "accuracy_dt_s2=accuracy_score(y1_test,y_pred)\n",
        "print(accuracy_dt_s2)\n",
        "\n",
        "l2.append(accuracy_dt_s2)"
      ],
      "metadata": {
        "colab": {
          "base_uri": "https://localhost:8080/"
        },
        "id": "MqKzNNq1fIS4",
        "outputId": "3c1ccfc2-a4ef-406b-babc-50b7c61a4e54"
      },
      "execution_count": 20,
      "outputs": [
        {
          "output_type": "stream",
          "name": "stdout",
          "text": [
            "0.95\n"
          ]
        }
      ]
    },
    {
      "cell_type": "code",
      "source": [
        "#sample2--nb\n",
        "from sklearn.naive_bayes import GaussianNB\n",
        "\n",
        "nb = GaussianNB()\n",
        "nb.fit(X1_train, y1_train)\n",
        "y_pred=dtc.predict(X1_test)\n",
        "accuracy_nb_s2=accuracy_score(y1_test,y_pred)\n",
        "print(accuracy_nb_s2)\n",
        "l2.append(accuracy_nb_s2)"
      ],
      "metadata": {
        "colab": {
          "base_uri": "https://localhost:8080/"
        },
        "id": "XZGTl7xOf_iE",
        "outputId": "ec3f33e1-5fb8-4ea9-b520-82aac1ba150d"
      },
      "execution_count": 21,
      "outputs": [
        {
          "output_type": "stream",
          "name": "stdout",
          "text": [
            "0.95\n"
          ]
        }
      ]
    },
    {
      "cell_type": "code",
      "source": [
        "\n",
        "print(l2)"
      ],
      "metadata": {
        "colab": {
          "base_uri": "https://localhost:8080/"
        },
        "id": "t_BmgoX4gNfL",
        "outputId": "12ed1f0f-03c5-40a8-8970-56eaa1b2b458"
      },
      "execution_count": 22,
      "outputs": [
        {
          "output_type": "stream",
          "name": "stdout",
          "text": [
            "[1.0, 0.95, 1.0, 0.95, 0.95]\n"
          ]
        }
      ]
    },
    {
      "cell_type": "code",
      "source": [
        "\n",
        "df = pd.DataFrame({'Sample1': l, 'Sample2': l2})\n",
        "print(df)"
      ],
      "metadata": {
        "colab": {
          "base_uri": "https://localhost:8080/"
        },
        "id": "FxUkOjOlj5pT",
        "outputId": "0e30b2b3-8c99-404e-d2ac-5a7251fb755d"
      },
      "execution_count": 23,
      "outputs": [
        {
          "output_type": "stream",
          "name": "stdout",
          "text": [
            "   Sample1  Sample2\n",
            "0     1.00     1.00\n",
            "1     0.90     0.95\n",
            "2     1.00     1.00\n",
            "3     0.95     0.95\n",
            "4     0.95     0.95\n"
          ]
        }
      ]
    },
    {
      "cell_type": "code",
      "source": [
        "# based on some criteria. For example, if the data contains\n",
        "# a categorical variable called \"category\", we can use that\n",
        "# to define the strata as follows:\n",
        "new_df['stratum'] = pd.cut(new_df['Class'], bins=3,\n",
        "                       labels=['low', 'medium', 'high'])"
      ],
      "metadata": {
        "id": "9VG_AFGXnsOT"
      },
      "execution_count": 24,
      "outputs": []
    },
    {
      "cell_type": "code",
      "source": [
        "from sklearn.model_selection import StratifiedShuffleSplit\n",
        "from sklearn.ensemble import RandomForestClassifier\n",
        "from sklearn.metrics import accuracy_score\n",
        "import pandas as pd\n",
        "\n",
        "# Load data\n",
        "data = pd.read_csv('/content/Creditcard_data.csv')\n",
        "\n",
        "# Define the features and target variable\n",
        "X = data.drop(columns=['Class'])\n",
        "y = data['Class']\n",
        "\n",
        "# Define the number of splits for the StratifiedShuffleSplit\n",
        "n_splits = 5\n",
        "\n",
        "# Define the Random Forest model\n",
        "rf = RandomForestClassifier()\n",
        "\n",
        "# Initialize the StratifiedShuffleSplit object\n",
        "sss = StratifiedShuffleSplit(n_splits=n_splits, test_size=0.2, random_state=42)\n",
        "\n",
        "# Loop through the splits and fit the model\n",
        "for train_index, test_index in sss.split(X, y):\n",
        "    X_train, X_test = X.iloc[train_index], X.iloc[test_index]\n",
        "    y_train, y_test = y.iloc[train_index], y.iloc[test_index]\n",
        "\n",
        "    # Fit the model on the training data\n",
        "    rf.fit(X_train, y_train)\n",
        "\n",
        "    # Predict on the test data\n",
        "    y_pred = rf.predict(X_test)\n",
        "\n",
        "    # Calculate the accuracy score\n",
        "    accuracy = accuracy_score(y_test, y_pred)\n",
        "\n",
        "    # Print the accuracy score\n",
        "    print(f'Accuracy score: {accuracy}')\n",
        "l3=list()\n",
        "l3.append(accuracy)    "
      ],
      "metadata": {
        "colab": {
          "base_uri": "https://localhost:8080/"
        },
        "id": "p2aCTkdhvSS3",
        "outputId": "fb7277af-e0b8-4dd6-bde7-d53fc3f329c4"
      },
      "execution_count": 27,
      "outputs": [
        {
          "output_type": "stream",
          "name": "stdout",
          "text": [
            "Accuracy score: 0.9870967741935484\n",
            "Accuracy score: 0.9870967741935484\n",
            "Accuracy score: 0.9870967741935484\n",
            "Accuracy score: 0.9870967741935484\n",
            "Accuracy score: 0.9870967741935484\n"
          ]
        }
      ]
    },
    {
      "cell_type": "code",
      "source": [
        "from sklearn.model_selection import StratifiedShuffleSplit\n",
        "from sklearn.svm import SVC\n",
        "\n",
        "svm = SVC(kernel='linear', C=1,)\n",
        "\n",
        "from sklearn.metrics import accuracy_score\n",
        "import pandas as pd\n",
        "\n",
        "# Load data\n",
        "data = pd.read_csv('/content/Creditcard_data.csv')\n",
        "\n",
        "# Define the features and target variable\n",
        "X = data.drop(columns=['Class'])\n",
        "y = data['Class']\n",
        "\n",
        "# Define the number of splits for the StratifiedShuffleSplit\n",
        "n_splits = 5\n",
        "\n",
        "# Define the Random Forest model\n",
        "svm.fit(X1_train, y1_train)\n",
        "\n",
        "# Initialize the StratifiedShuffleSplit object\n",
        "sss = StratifiedShuffleSplit(n_splits=n_splits, test_size=0.2, random_state=42)\n",
        "\n",
        "# Loop through the splits and fit the model\n",
        "for train_index, test_index in sss.split(X, y):\n",
        "    X_train, X_test = X.iloc[train_index], X.iloc[test_index]\n",
        "    y_train, y_test = y.iloc[train_index], y.iloc[test_index]\n",
        "\n",
        "    # Fit the model on the training data\n",
        "    y1_pred=svm.predict(X1_test)\n",
        "    \n",
        "\n",
        "    # Calculate the accuracy score\n",
        "    accuracy = accuracy_score(y_test, y_pred)\n",
        "\n",
        "    # Print the accuracy score\n",
        "    print(f'Accuracy score: {accuracy}')\n",
        "l3.append(accuracy)      \n"
      ],
      "metadata": {
        "colab": {
          "base_uri": "https://localhost:8080/"
        },
        "id": "1iMifAQ3v5Ag",
        "outputId": "9dee39ce-eefa-427e-fe1d-2e06d10c47f3"
      },
      "execution_count": 30,
      "outputs": [
        {
          "output_type": "stream",
          "name": "stdout",
          "text": [
            "Accuracy score: 0.9870967741935484\n",
            "Accuracy score: 0.9870967741935484\n",
            "Accuracy score: 0.9870967741935484\n",
            "Accuracy score: 0.9870967741935484\n",
            "Accuracy score: 0.9870967741935484\n"
          ]
        }
      ]
    },
    {
      "cell_type": "code",
      "source": [
        "from sklearn.model_selection import StratifiedShuffleSplit\n",
        "from sklearn.ensemble import ExtraTreesClassifier\n",
        "\n",
        "etc = ExtraTreesClassifier(n_estimators=100, max_depth=5, random_state=42)\n",
        "\n",
        "\n",
        "from sklearn.metrics import accuracy_score\n",
        "import pandas as pd\n",
        "\n",
        "# Load data\n",
        "data = pd.read_csv('/content/Creditcard_data.csv')\n",
        "\n",
        "# Define the features and target variable\n",
        "X = data.drop(columns=['Class'])\n",
        "y = data['Class']\n",
        "\n",
        "# Define the number of splits for the StratifiedShuffleSplit\n",
        "n_splits = 5\n",
        "\n",
        "# Define the Random Forest model\n",
        "\n",
        "\n",
        "# Initialize the StratifiedShuffleSplit object\n",
        "sss = StratifiedShuffleSplit(n_splits=n_splits, test_size=0.2, random_state=42)\n",
        "\n",
        "# Loop through the splits and fit the model\n",
        "for train_index, test_index in sss.split(X, y):\n",
        "    X_train, X_test = X.iloc[train_index], X.iloc[test_index]\n",
        "    y_train, y_test = y.iloc[train_index], y.iloc[test_index]\n",
        "\n",
        "    # Fit the model on the training data\n",
        "    etc.fit(X_train, y_train)\n",
        "    y_pred=etc.predict(X_test)\n",
        "    \n",
        "\n",
        "    # Calculate the accuracy score\n",
        "    accuracy = accuracy_score(y_test, y_pred)\n",
        "\n",
        "    # Print the accuracy score\n",
        "    print(f'Accuracy score: {accuracy}')\n",
        "l3.append(accuracy) "
      ],
      "metadata": {
        "colab": {
          "base_uri": "https://localhost:8080/"
        },
        "id": "5BSCDiO-wq7q",
        "outputId": "1e0669ed-6d6e-42a1-f40b-51555080c28a"
      },
      "execution_count": 32,
      "outputs": [
        {
          "output_type": "stream",
          "name": "stdout",
          "text": [
            "Accuracy score: 0.9870967741935484\n",
            "Accuracy score: 0.9870967741935484\n",
            "Accuracy score: 0.9870967741935484\n",
            "Accuracy score: 0.9870967741935484\n",
            "Accuracy score: 0.9870967741935484\n"
          ]
        }
      ]
    },
    {
      "cell_type": "code",
      "source": [
        "from sklearn.model_selection import StratifiedShuffleSplit\n",
        "from sklearn.tree import DecisionTreeClassifier\n",
        "\n",
        "dtc = DecisionTreeClassifier(max_depth=5, random_state=42)\n",
        "\n",
        "\n",
        "\n",
        "from sklearn.metrics import accuracy_score\n",
        "import pandas as pd\n",
        "\n",
        "# Load data\n",
        "data = pd.read_csv('/content/Creditcard_data.csv')\n",
        "\n",
        "# Define the features and target variable\n",
        "X = data.drop(columns=['Class'])\n",
        "y = data['Class']\n",
        "\n",
        "# Define the number of splits for the StratifiedShuffleSplit\n",
        "n_splits = 5\n",
        "\n",
        "# Define the Random Forest model\n",
        "\n",
        "\n",
        "# Initialize the StratifiedShuffleSplit object\n",
        "sss = StratifiedShuffleSplit(n_splits=n_splits, test_size=0.2, random_state=42)\n",
        "\n",
        "# Loop through the splits and fit the model\n",
        "for train_index, test_index in sss.split(X, y):\n",
        "    X_train, X_test = X.iloc[train_index], X.iloc[test_index]\n",
        "    y_train, y_test = y.iloc[train_index], y.iloc[test_index]\n",
        "\n",
        "    # Fit the model on the training data\n",
        "    dtc.fit(X_train, y_train)\n",
        "    y_pred=dtc.predict(X_test)\n",
        "    \n",
        "\n",
        "    # Calculate the accuracy score\n",
        "    accuracy = accuracy_score(y_test, y_pred)\n",
        "\n",
        "    # Print the accuracy score\n",
        "    print(f'Accuracy score: {accuracy}')\n",
        "l3.append(accuracy) "
      ],
      "metadata": {
        "colab": {
          "base_uri": "https://localhost:8080/"
        },
        "id": "NqbxaxjHxOAA",
        "outputId": "032c55ba-cc8b-4ebf-d771-8537368efa41"
      },
      "execution_count": 33,
      "outputs": [
        {
          "output_type": "stream",
          "name": "stdout",
          "text": [
            "Accuracy score: 0.9741935483870968\n",
            "Accuracy score: 0.9935483870967742\n",
            "Accuracy score: 0.9806451612903225\n",
            "Accuracy score: 0.9806451612903225\n",
            "Accuracy score: 0.967741935483871\n"
          ]
        }
      ]
    },
    {
      "cell_type": "code",
      "source": [],
      "metadata": {
        "id": "U1B1NlVZxet5"
      },
      "execution_count": null,
      "outputs": []
    },
    {
      "cell_type": "code",
      "source": [
        "from sklearn.model_selection import StratifiedShuffleSplit\n",
        "from sklearn.naive_bayes import GaussianNB\n",
        "\n",
        "nb = GaussianNB()\n",
        "\n",
        "\n",
        "\n",
        "\n",
        "from sklearn.metrics import accuracy_score\n",
        "import pandas as pd\n",
        "\n",
        "# Load data\n",
        "data = pd.read_csv('/content/Creditcard_data.csv')\n",
        "\n",
        "# Define the features and target variable\n",
        "X = data.drop(columns=['Class'])\n",
        "y = data['Class']\n",
        "\n",
        "# Define the number of splits for the StratifiedShuffleSplit\n",
        "n_splits = 5\n",
        "\n",
        "# Define the Random Forest model\n",
        "\n",
        "\n",
        "# Initialize the StratifiedShuffleSplit object\n",
        "sss = StratifiedShuffleSplit(n_splits=n_splits, test_size=0.2, random_state=42)\n",
        "\n",
        "# Loop through the splits and fit the model\n",
        "for train_index, test_index in sss.split(X, y):\n",
        "    X_train, X_test = X.iloc[train_index], X.iloc[test_index]\n",
        "    y_train, y_test = y.iloc[train_index], y.iloc[test_index]\n",
        "\n",
        "    # Fit the model on the training data\n",
        "    nb.fit(X_train, y_train)\n",
        "    y_pred=dtc.predict(X_test)\n",
        "    \n",
        "\n",
        "    # Calculate the accuracy score\n",
        "    accuracy = accuracy_score(y_test, y_pred)\n",
        "\n",
        "    # Print the accuracy score\n",
        "    print(f'Accuracy score: {accuracy}')\n",
        "l3.append(accuracy) "
      ],
      "metadata": {
        "colab": {
          "base_uri": "https://localhost:8080/"
        },
        "outputId": "2bb16dd6-f791-4c5e-9e8a-72e58bff7251",
        "id": "XnH-9iGuxi16"
      },
      "execution_count": 34,
      "outputs": [
        {
          "output_type": "stream",
          "name": "stdout",
          "text": [
            "Accuracy score: 0.9870967741935484\n",
            "Accuracy score: 0.9935483870967742\n",
            "Accuracy score: 1.0\n",
            "Accuracy score: 0.9935483870967742\n",
            "Accuracy score: 0.967741935483871\n"
          ]
        }
      ]
    },
    {
      "cell_type": "code",
      "source": [
        "print(l3)"
      ],
      "metadata": {
        "colab": {
          "base_uri": "https://localhost:8080/"
        },
        "id": "3SNl9WuyxH-3",
        "outputId": "51ef2087-6b13-45a4-86a5-f6618555e5ec"
      },
      "execution_count": 35,
      "outputs": [
        {
          "output_type": "stream",
          "name": "stdout",
          "text": [
            "[0.9870967741935484, 0.9870967741935484, 0.9870967741935484, 0.967741935483871, 0.967741935483871]\n"
          ]
        }
      ]
    },
    {
      "cell_type": "code",
      "source": [
        "\n",
        "df = pd.DataFrame({'Sample1': l, 'Sample2': l2,'Sample3':l3})\n",
        "print(df)"
      ],
      "metadata": {
        "colab": {
          "base_uri": "https://localhost:8080/"
        },
        "id": "-dpuyGbDx_zX",
        "outputId": "ade8a3a5-6ca2-4447-a7dc-7878ccf6a2f2"
      },
      "execution_count": 36,
      "outputs": [
        {
          "output_type": "stream",
          "name": "stdout",
          "text": [
            "   Sample1  Sample2   Sample3\n",
            "0     1.00     1.00  0.987097\n",
            "1     0.90     0.95  0.987097\n",
            "2     1.00     1.00  0.987097\n",
            "3     0.95     0.95  0.967742\n",
            "4     0.95     0.95  0.967742\n"
          ]
        }
      ]
    },
    {
      "cell_type": "code",
      "source": [
        "from sklearn.cluster import KMeans\n",
        "from sklearn.ensemble import RandomForestClassifier\n",
        "from sklearn.metrics import accuracy_score\n",
        "import pandas as pd\n",
        "\n",
        "# Load data\n",
        "data = pd.read_csv('/content/Creditcard_data.csv')\n",
        "\n",
        "# Define the features and target variable\n",
        "X = data.drop(columns=['Class'])\n",
        "y = data['Class']\n",
        "\n",
        "# Initialize the KMeans object\n",
        "kmeans = KMeans(n_clusters=5, random_state=42)\n",
        "\n",
        "# Fit the KMeans object to the data\n",
        "kmeans.fit(X)\n",
        "\n",
        "# Extract the cluster labels\n",
        "cluster_labels = kmeans.labels_\n",
        "\n",
        "# Split the data into training and test sets based on the cluster labels\n",
        "train_indices = []\n",
        "test_indices = []\n",
        "for cluster_id in range(kmeans.n_clusters):\n",
        "    cluster_indices = [i for i, label in enumerate(cluster_labels) if label == cluster_id]\n",
        "    cluster_size = len(cluster_indices)\n",
        "    train_size = int(cluster_size * 0.8)\n",
        "    train_indices.extend(cluster_indices[:train_size])\n",
        "    test_indices.extend(cluster_indices[train_size:])\n",
        "\n",
        "X_train, X_test = X.iloc[train_indices], X.iloc[test_indices]\n",
        "y_train, y_test = y.iloc[train_indices], y.iloc[test_indices]\n",
        "\n",
        "# Fit the model on the training data\n",
        "rf = RandomForestClassifier()\n",
        "rf.fit(X_train, y_train)\n",
        "\n",
        "# Predict on the test data\n",
        "y_pred = rf.predict(X_test)\n",
        "\n",
        "# Calculate the accuracy score\n",
        "accuracy = accuracy_score(y_test, y_pred)\n",
        "\n",
        "# Print the accuracy score\n",
        "print(f'Accuracy score: {accuracy}')\n",
        "l4=list()\n",
        "l4.append(accuracy)\n",
        "\n"
      ],
      "metadata": {
        "colab": {
          "base_uri": "https://localhost:8080/"
        },
        "id": "GR9s2o7LyzV0",
        "outputId": "18dcdbe1-3439-4792-ad2f-1f4c7727795c"
      },
      "execution_count": 54,
      "outputs": [
        {
          "output_type": "stream",
          "name": "stdout",
          "text": [
            "Accuracy score: 0.9871794871794872\n"
          ]
        }
      ]
    },
    {
      "cell_type": "code",
      "source": [
        "from sklearn.cluster import KMeans\n",
        "from sklearn.svm import SVC\n",
        "\n",
        "svm = SVC(kernel='linear', C=1,)\n",
        "from sklearn.metrics import accuracy_score\n",
        "import pandas as pd\n",
        "\n",
        "# Load data\n",
        "data = pd.read_csv('/content/Creditcard_data.csv')\n",
        "\n",
        "# Define the features and target variable\n",
        "X = data.drop(columns=['Class'])\n",
        "y = data['Class']\n",
        "\n",
        "# Initialize the KMeans object\n",
        "kmeans = KMeans(n_clusters=5, random_state=42)\n",
        "\n",
        "# Fit the KMeans object to the data\n",
        "\n",
        "\n",
        "# Extract the cluster labels\n",
        "\n",
        "\n",
        "# Split the data into training and test sets based on the cluster labels\n",
        "train_indices = []\n",
        "test_indices = []\n",
        "for cluster_id in range(kmeans.n_clusters):\n",
        "    cluster_indices = [i for i, label in enumerate(cluster_labels) if label == cluster_id]\n",
        "    cluster_size = len(cluster_indices)\n",
        "    train_size = int(cluster_size * 0.8)\n",
        "    train_indices.extend(cluster_indices[:train_size])\n",
        "    test_indices.extend(cluster_indices[train_size:])\n",
        "\n",
        "X_train, X_test = X.iloc[train_indices], X.iloc[test_indices]\n",
        "y_train, y_test = y.iloc[train_indices], y.iloc[test_indices]\n",
        "\n",
        "# Fit the model on the training data\n",
        "\n",
        "svm.fit(X_train, y_train)\n",
        "\n",
        "# Predict on the test data\n",
        "y_pred = svm.predict(X_test)\n",
        "\n",
        "# Calculate the accuracy score\n",
        "accuracy1 = accuracy_score(y_test, y_pred)\n",
        "\n",
        "# Print the accuracy score\n",
        "print(f'Accuracy score: {accuracy1}')\n",
        "\n",
        "l4.append(accuracy1)\n"
      ],
      "metadata": {
        "colab": {
          "base_uri": "https://localhost:8080/"
        },
        "id": "-TJLaHuR0MFY",
        "outputId": "b50bd3f1-2233-40e8-83f7-b9476f565f4a"
      },
      "execution_count": 55,
      "outputs": [
        {
          "output_type": "stream",
          "name": "stdout",
          "text": [
            "Accuracy score: 0.9871794871794872\n"
          ]
        }
      ]
    },
    {
      "cell_type": "code",
      "source": [
        "from sklearn.cluster import KMeans\n",
        "from sklearn.ensemble import ExtraTreesClassifier\n",
        "\n",
        "etc = ExtraTreesClassifier(n_estimators=100, max_depth=5, random_state=42)\n",
        "from sklearn.metrics import accuracy_score\n",
        "import pandas as pd\n",
        "\n",
        "# Load data\n",
        "data = pd.read_csv('/content/Creditcard_data.csv')\n",
        "\n",
        "# Define the features and target variable\n",
        "X = data.drop(columns=['Class'])\n",
        "y = data['Class']\n",
        "\n",
        "# Initialize the KMeans object\n",
        "kmeans = KMeans(n_clusters=5, random_state=42)\n",
        "\n",
        "# Fit the KMeans object to the data\n",
        "\n",
        "\n",
        "# Extract the cluster labels\n",
        "\n",
        "\n",
        "# Split the data into training and test sets based on the cluster labels\n",
        "train_indices = []\n",
        "test_indices = []\n",
        "for cluster_id in range(kmeans.n_clusters):\n",
        "    cluster_indices = [i for i, label in enumerate(cluster_labels) if label == cluster_id]\n",
        "    cluster_size = len(cluster_indices)\n",
        "    train_size = int(cluster_size * 0.8)\n",
        "    train_indices.extend(cluster_indices[:train_size])\n",
        "    test_indices.extend(cluster_indices[train_size:])\n",
        "\n",
        "X_train, X_test = X.iloc[train_indices], X.iloc[test_indices]\n",
        "y_train, y_test = y.iloc[train_indices], y.iloc[test_indices]\n",
        "\n",
        "# Fit the model on the training data\n",
        "\n",
        "etc.fit(X_train, y_train)\n",
        "\n",
        "# Predict on the test data\n",
        "y_pred = etc.predict(X_test)\n",
        "\n",
        "# Calculate the accuracy score\n",
        "accuracy2 = accuracy_score(y_test, y_pred)\n",
        "\n",
        "# Print the accuracy score\n",
        "print(f'Accuracy score: {accuracy2}')\n",
        "\n",
        "l4.append(accuracy2)"
      ],
      "metadata": {
        "colab": {
          "base_uri": "https://localhost:8080/"
        },
        "id": "4h8dig860zvS",
        "outputId": "b38a41b9-58d6-439e-8c89-baa679456a6c"
      },
      "execution_count": 56,
      "outputs": [
        {
          "output_type": "stream",
          "name": "stdout",
          "text": [
            "Accuracy score: 0.9871794871794872\n"
          ]
        }
      ]
    },
    {
      "cell_type": "code",
      "source": [
        "from sklearn.cluster import KMeans\n",
        "from sklearn.tree import DecisionTreeClassifier\n",
        "\n",
        "dtc = DecisionTreeClassifier(max_depth=5, random_state=42)\n",
        "from sklearn.metrics import accuracy_score\n",
        "import pandas as pd\n",
        "\n",
        "# Load data\n",
        "data = pd.read_csv('/content/Creditcard_data.csv')\n",
        "\n",
        "# Define the features and target variable\n",
        "X = data.drop(columns=['Class'])\n",
        "y = data['Class']\n",
        "\n",
        "# Initialize the KMeans object\n",
        "kmeans = KMeans(n_clusters=5, random_state=42)\n",
        "\n",
        "# Fit the KMeans object to the data\n",
        "\n",
        "\n",
        "# Extract the cluster labels\n",
        "\n",
        "\n",
        "# Split the data into training and test sets based on the cluster labels\n",
        "train_indices = []\n",
        "test_indices = []\n",
        "for cluster_id in range(kmeans.n_clusters):\n",
        "    cluster_indices = [i for i, label in enumerate(cluster_labels) if label == cluster_id]\n",
        "    cluster_size = len(cluster_indices)\n",
        "    train_size = int(cluster_size * 0.8)\n",
        "    train_indices.extend(cluster_indices[:train_size])\n",
        "    test_indices.extend(cluster_indices[train_size:])\n",
        "\n",
        "X_train, X_test = X.iloc[train_indices], X.iloc[test_indices]\n",
        "y_train, y_test = y.iloc[train_indices], y.iloc[test_indices]\n",
        "\n",
        "# Fit the model on the training data\n",
        "\n",
        "dtc.fit(X_train, y_train)\n",
        "\n",
        "# Predict on the test data\n",
        "y_pred = dtc.predict(X_test)\n",
        "\n",
        "# Calculate the accuracy score\n",
        "accuracy3 = accuracy_score(y_test, y_pred)\n",
        "\n",
        "# Print the accuracy score\n",
        "print(f'Accuracy score: {accuracy3}')\n",
        "\n",
        "l4.append(accuracy3)"
      ],
      "metadata": {
        "colab": {
          "base_uri": "https://localhost:8080/"
        },
        "id": "jat-41ip1Ddu",
        "outputId": "bfaed49b-dee0-46a2-e790-14e8b78405e2"
      },
      "execution_count": 57,
      "outputs": [
        {
          "output_type": "stream",
          "name": "stdout",
          "text": [
            "Accuracy score: 0.9487179487179487\n"
          ]
        }
      ]
    },
    {
      "cell_type": "code",
      "source": [
        "from sklearn.cluster import KMeans\n",
        "from sklearn.naive_bayes import GaussianNB\n",
        "\n",
        "nb = GaussianNB()\n",
        "from sklearn.metrics import accuracy_score\n",
        "import pandas as pd\n",
        "\n",
        "# Load data\n",
        "data = pd.read_csv('/content/Creditcard_data.csv')\n",
        "\n",
        "# Define the features and target variable\n",
        "X = data.drop(columns=['Class'])\n",
        "y = data['Class']\n",
        "\n",
        "# Initialize the KMeans object\n",
        "kmeans = KMeans(n_clusters=5, random_state=42)\n",
        "\n",
        "# Fit the KMeans object to the data\n",
        "\n",
        "\n",
        "# Extract the cluster labels\n",
        "\n",
        "\n",
        "# Split the data into training and test sets based on the cluster labels\n",
        "train_indices = []\n",
        "test_indices = []\n",
        "for cluster_id in range(kmeans.n_clusters):\n",
        "    cluster_indices = [i for i, label in enumerate(cluster_labels) if label == cluster_id]\n",
        "    cluster_size = len(cluster_indices)\n",
        "    train_size = int(cluster_size * 0.8)\n",
        "    train_indices.extend(cluster_indices[:train_size])\n",
        "    test_indices.extend(cluster_indices[train_size:])\n",
        "\n",
        "X_train, X_test = X.iloc[train_indices], X.iloc[test_indices]\n",
        "y_train, y_test = y.iloc[train_indices], y.iloc[test_indices]\n",
        "\n",
        "# Fit the model on the training data\n",
        "\n",
        "nb.fit(X_train, y_train)\n",
        "\n",
        "# Predict on the test data\n",
        "y_pred = nb.predict(X_test)\n",
        "\n",
        "# Calculate the accuracy score\n",
        "accuracy4 = accuracy_score(y_test, y_pred)\n",
        "\n",
        "# Print the accuracy score\n",
        "print(f'Accuracy score: {accuracy4}')\n",
        "\n",
        "l4.append(accuracy4)"
      ],
      "metadata": {
        "colab": {
          "base_uri": "https://localhost:8080/"
        },
        "id": "GI82NERx1eYK",
        "outputId": "459b1347-4e05-4f90-970d-ddc6a35cdc62"
      },
      "execution_count": 60,
      "outputs": [
        {
          "output_type": "stream",
          "name": "stdout",
          "text": [
            "Accuracy score: 0.9423076923076923\n"
          ]
        }
      ]
    },
    {
      "cell_type": "code",
      "source": [
        "\n",
        "print(l4)"
      ],
      "metadata": {
        "colab": {
          "base_uri": "https://localhost:8080/"
        },
        "id": "HikLpfvj1u_4",
        "outputId": "5ae10eb5-9925-4b9d-ef13-c9224cbd6c0e"
      },
      "execution_count": 61,
      "outputs": [
        {
          "output_type": "stream",
          "name": "stdout",
          "text": [
            "[0.9871794871794872, 0.9871794871794872, 0.9871794871794872, 0.9487179487179487, 0.9423076923076923]\n"
          ]
        }
      ]
    },
    {
      "cell_type": "code",
      "source": [
        "# FINAL SOLTION----------------------------------------------------------------\n",
        "df = pd.DataFrame({'Sample1': l, 'Sample2': l2,'Sample3':l3,'Sample4':l4})\n",
        "print(df)"
      ],
      "metadata": {
        "colab": {
          "base_uri": "https://localhost:8080/"
        },
        "id": "GYLnhW8u26ml",
        "outputId": "ad9d52da-6969-413b-8f91-df7cb8402756"
      },
      "execution_count": 62,
      "outputs": [
        {
          "output_type": "stream",
          "name": "stdout",
          "text": [
            "   Sample1  Sample2   Sample3   Sample4\n",
            "0     1.00     1.00  0.987097  0.987179\n",
            "1     0.90     0.95  0.987097  0.987179\n",
            "2     1.00     1.00  0.987097  0.987179\n",
            "3     0.95     0.95  0.967742  0.948718\n",
            "4     0.95     0.95  0.967742  0.942308\n"
          ]
        }
      ]
    }
  ]
}